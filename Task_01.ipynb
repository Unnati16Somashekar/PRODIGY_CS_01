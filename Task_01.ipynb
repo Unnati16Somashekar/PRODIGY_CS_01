{
 "cells": [
  {
   "cell_type": "code",
   "execution_count": 3,
   "id": "f3007531-37d7-42f3-9a20-a2c95853d51b",
   "metadata": {},
   "outputs": [
    {
     "name": "stdin",
     "output_type": "stream",
     "text": [
      "Enter the message:  welcome to cyber security session\n",
      "Enter the shift value:  5\n"
     ]
    },
    {
     "name": "stdout",
     "output_type": "stream",
     "text": [
      "Encrypted Message: bjqhtrj yt hdgjw xjhzwnyd xjxxnts\n",
      "Decrypted Message: welcome to cyber security session\n"
     ]
    }
   ],
   "source": [
    "# Function to encrypt the message using Caesar cipher\n",
    "def encrypt(text, shift):\n",
    "    encrypted_text = \"\"\n",
    "    \n",
    "    # Traverse through the text\n",
    "    for char in text:\n",
    "        # Encrypt uppercase letters\n",
    "        if char.isupper():\n",
    "            encrypted_text += chr((ord(char) + shift - 65) % 26 + 65)\n",
    "        # Encrypt lowercase letters\n",
    "        elif char.islower():\n",
    "            encrypted_text += chr((ord(char) + shift - 97) % 26 + 97)\n",
    "        else:\n",
    "            # Leave non-alphabet characters unchanged\n",
    "            encrypted_text += char\n",
    "    return encrypted_text\n",
    "\n",
    "# Function to decrypt the message using Caesar cipher\n",
    "def decrypt(text, shift):\n",
    "    return encrypt(text, -shift)\n",
    "\n",
    "# Main program\n",
    "if __name__ == \"__main__\":\n",
    "    # User input\n",
    "    text = input(\"Enter the message: \")\n",
    "    shift = int(input(\"Enter the shift value: \"))\n",
    "    \n",
    "    # Encryption\n",
    "    encrypted_message = encrypt(text, shift)\n",
    "    print(f\"Encrypted Message: {encrypted_message}\")\n",
    "    \n",
    "    # Decryption\n",
    "    decrypted_message = decrypt(encrypted_message, shift)\n",
    "    print(f\"Decrypted Message: {decrypted_message}\")"
   ]
  },
  {
   "cell_type": "code",
   "execution_count": null,
   "id": "a90b4a11-b0cf-4085-9f5d-2f24b94acb36",
   "metadata": {},
   "outputs": [],
   "source": []
  }
 ],
 "metadata": {
  "kernelspec": {
   "display_name": "Python 3 (ipykernel)",
   "language": "python",
   "name": "python3"
  },
  "language_info": {
   "codemirror_mode": {
    "name": "ipython",
    "version": 3
   },
   "file_extension": ".py",
   "mimetype": "text/x-python",
   "name": "python",
   "nbconvert_exporter": "python",
   "pygments_lexer": "ipython3",
   "version": "3.11.9"
  }
 },
 "nbformat": 4,
 "nbformat_minor": 5
}
